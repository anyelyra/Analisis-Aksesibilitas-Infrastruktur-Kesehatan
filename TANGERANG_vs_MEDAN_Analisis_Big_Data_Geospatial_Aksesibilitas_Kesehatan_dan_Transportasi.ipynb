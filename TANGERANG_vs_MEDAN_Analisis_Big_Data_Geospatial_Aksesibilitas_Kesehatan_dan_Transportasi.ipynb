{
  "cells": [
    {
      "cell_type": "markdown",
      "id": "aP7jQpRZkuUk",
      "metadata": {
        "id": "aP7jQpRZkuUk"
      },
      "source": [
        "# 🚦 Analisis Big Data Geospatial - Aksesibilitas Kesehatan dan Transportasi Kota Tangerang dan Kota Medan menggunakan OpenStreetMap dan OSMNX\n",
        "\n",
        "Proyek mini untuk analisis spasial jaringan jalan dan aksesibilitas kesehatan di Kota Tangerang dan Kota Medan.\n",
        "\n",
        "## Tujuan:\n",
        "- Mengambil jaringan jalan dari Open Street Map (OSM)\n",
        "- Analisis statistik jaringan\n",
        "- Analisis centrality\n",
        "- Analisis aksesibilitas ke rumah sakit\n",
        "- Visualisasi jaringan dan Point-of-Interest (POI)\n"
      ]
    },
    {
      "cell_type": "code",
      "execution_count": null,
      "id": "HgNZmxOqkuUn",
      "metadata": {
        "id": "HgNZmxOqkuUn"
      },
      "outputs": [],
      "source": [
        "# 🔧 Install dependencies\n",
        "!pip install osmnx --upgrade folium geopandas networkx --quiet"
      ]
    },
    {
      "cell_type": "code",
      "execution_count": null,
      "id": "nx7ywpdekuUp",
      "metadata": {
        "id": "nx7ywpdekuUp"
      },
      "outputs": [],
      "source": [
        "# 📚 Import libraries\n",
        "import osmnx as ox\n",
        "import networkx as nx\n",
        "import matplotlib.pyplot as plt\n",
        "import folium\n",
        "import geopandas as gpd\n",
        "import pandas as pd\n",
        "import numpy as np"
      ]
    },
    {
      "cell_type": "code",
      "execution_count": null,
      "id": "hiNu_yaekuUq",
      "metadata": {
        "id": "hiNu_yaekuUq"
      },
      "outputs": [],
      "source": [
        "# 🌍 Ambil jaringan jalan Kota Tangerang\n",
        "place1 = \"Tangerang, Indonesia\"\n",
        "G = ox.graph_from_place(place1, network_type=\"drive\")\n",
        "nodes, edges = ox.graph_to_gdfs(G)\n",
        "\n",
        "# 🌍 Ambil jaringan jalan Kota Medan\n",
        "place2 = \"Medan, Indonesia\"\n",
        "H = ox.graph_from_place(place2, network_type=\"drive\")\n",
        "nodes, edges = ox.graph_to_gdfs(H)"
      ]
    },
    {
      "cell_type": "code",
      "execution_count": null,
      "id": "9kijFIjXkuUq",
      "metadata": {
        "id": "9kijFIjXkuUq"
      },
      "outputs": [],
      "source": [
        "# 📊 Statistik jaringan (Kota Tangerang)\n",
        "stats1 = ox.basic_stats(G)\n",
        "pd.Series(stats1).head(10)"
      ]
    },
    {
      "cell_type": "code",
      "source": [
        "# 📊 Statistik jaringan (Kota Medan)\n",
        "stats2 = ox.basic_stats(H)\n",
        "pd.Series(stats2).head(10)"
      ],
      "metadata": {
        "id": "FJNdPDXVzHmk"
      },
      "id": "FJNdPDXVzHmk",
      "execution_count": null,
      "outputs": []
    },
    {
      "cell_type": "code",
      "source": [
        "# 📍 Analisis centrality (Kota Tangerang)\n",
        "degree1 = nx.degree_centrality(G)\n",
        "nx.set_node_attributes(G, degree1, \"degree\")\n",
        "top_nodes1 = sorted(degree1.items(), key=lambda x: x[1], reverse=True)[:5]\n",
        "top_nodes1"
      ],
      "metadata": {
        "id": "Y2IZurznM0e9"
      },
      "id": "Y2IZurznM0e9",
      "execution_count": null,
      "outputs": []
    },
    {
      "cell_type": "code",
      "source": [
        "for node_id, score in top_nodes1:\n",
        "    node_data = G.nodes[node_id]\n",
        "    print(f\"Simpul: {node_id} | Degree: {score:.6f} | Koordinat: ({node_data['y']}, {node_data['x']})\")"
      ],
      "metadata": {
        "id": "I0DnKjmKzbk9"
      },
      "id": "I0DnKjmKzbk9",
      "execution_count": null,
      "outputs": []
    },
    {
      "cell_type": "code",
      "source": [
        "m = folium.Map(location=[node_data['y'], node_data['x']], zoom_start=16)\n",
        "\n",
        "for node_id, _ in top_nodes1:\n",
        "    data = G.nodes[node_id]\n",
        "    folium.Marker(\n",
        "        location=[data['y'], data['x']],\n",
        "        popup=f\"Node {node_id}\",\n",
        "        icon=folium.Icon(color='red')\n",
        "    ).add_to(m)\n",
        "\n",
        "m"
      ],
      "metadata": {
        "id": "tT4DZgvKzkIT"
      },
      "id": "tT4DZgvKzkIT",
      "execution_count": null,
      "outputs": []
    },
    {
      "cell_type": "code",
      "source": [
        "# 📍 Analisis centrality (Kota Medan)\n",
        "degree2 = nx.degree_centrality(H)\n",
        "nx.set_node_attributes(G, degree2, \"degree\")\n",
        "top_nodes2 = sorted(degree2.items(), key=lambda x: x[1], reverse=True)[:5]\n",
        "top_nodes2"
      ],
      "metadata": {
        "id": "aXFcIkyAzXcm"
      },
      "id": "aXFcIkyAzXcm",
      "execution_count": null,
      "outputs": []
    },
    {
      "cell_type": "code",
      "source": [
        "for node_id, score in top_nodes2:\n",
        "    node_data = H.nodes[node_id]\n",
        "    print(f\"Simpul: {node_id} | Degree: {score:.6f} | Koordinat: ({node_data['y']}, {node_data['x']})\")"
      ],
      "metadata": {
        "id": "1iYY2jiXTL1m"
      },
      "id": "1iYY2jiXTL1m",
      "execution_count": null,
      "outputs": []
    },
    {
      "cell_type": "code",
      "source": [
        "m = folium.Map(location=[node_data['y'], node_data['x']], zoom_start=16)\n",
        "\n",
        "for node_id, _ in top_nodes2:\n",
        "    data = H.nodes[node_id]\n",
        "    folium.Marker(\n",
        "        location=[data['y'], data['x']],\n",
        "        popup=f\"Node {node_id}\",\n",
        "        icon=folium.Icon(color='red')\n",
        "    ).add_to(m)\n",
        "\n",
        "m"
      ],
      "metadata": {
        "id": "Ss7uJrCITsiV"
      },
      "id": "Ss7uJrCITsiV",
      "execution_count": null,
      "outputs": []
    },
    {
      "cell_type": "code",
      "execution_count": null,
      "id": "eHckyj0okuUr",
      "metadata": {
        "id": "eHckyj0okuUr"
      },
      "outputs": [],
      "source": [
        "# 🗺️ Visualisasi jaringan (Kota Tangerang)\n",
        "fig, ax = ox.plot_graph(G, node_size=5, edge_color=\"gray\")"
      ]
    },
    {
      "cell_type": "code",
      "source": [
        "# 🗺️ Visualisasi jaringan (Kota Medan)\n",
        "fig, ax = ox.plot_graph(H, node_size=5, edge_color=\"gray\")"
      ],
      "metadata": {
        "id": "73nIhmBv0FIC"
      },
      "id": "73nIhmBv0FIC",
      "execution_count": null,
      "outputs": []
    },
    {
      "cell_type": "code",
      "execution_count": null,
      "id": "lTyCUD2VkuUr",
      "metadata": {
        "id": "lTyCUD2VkuUr"
      },
      "outputs": [],
      "source": [
        "# 🏥 Ambil data rumah sakit dari OSM (Kota Tangerang)\n",
        "tags = {'amenity': 'hospital'}\n",
        "hospitals1 = ox.features_from_place(place1, tags=tags)\n",
        "hospital_points1 = hospitals1.centroid.to_frame(name='geometry').reset_index()\n",
        "hospital_points1 = gpd.GeoDataFrame(hospital_points1, geometry='geometry', crs=hospitals1.crs)\n",
        "hospital_points1.head()"
      ]
    },
    {
      "cell_type": "code",
      "source": [
        "# 🏥 Ambil data rumah sakit dari OSM (Kota Medan)\n",
        "tags = {'amenity': 'hospital'}\n",
        "hospitals2 = ox.features_from_place(place2, tags=tags)\n",
        "hospital_points2 = hospitals2.centroid.to_frame(name='geometry').reset_index()\n",
        "hospital_points2 = gpd.GeoDataFrame(hospital_points2, geometry='geometry', crs=hospitals1.crs)\n",
        "hospital_points2.head()"
      ],
      "metadata": {
        "id": "tNgpjoSx0b62"
      },
      "id": "tNgpjoSx0b62",
      "execution_count": null,
      "outputs": []
    },
    {
      "cell_type": "code",
      "execution_count": null,
      "id": "r9-B9yMrkuUr",
      "metadata": {
        "id": "r9-B9yMrkuUr"
      },
      "outputs": [],
      "source": [
        "# 📐 Analisis jarak dari rumah sakit ke node terdekat (Kota Tangerang)\n",
        "hospital_points1['nearest_node'] = hospital_points1['geometry'].apply(\n",
        "    lambda point: ox.distance.nearest_nodes(G, point.x, point.y))\n",
        "\n",
        "source_node = hospital_points1['nearest_node'].iloc[0]\n",
        "lengths = nx.single_source_dijkstra_path_length(G, source_node, weight='length')\n",
        "\n",
        "pd.Series(lengths).plot(kind='hist', bins=30, title='Distribusi Jarak dari RS ke Semua Titik')"
      ]
    },
    {
      "cell_type": "code",
      "source": [
        "# 📐 Analisis jarak dari rumah sakit ke node terdekat (Kota Medan)\n",
        "hospital_points2['nearest_node'] = hospital_points2['geometry'].apply(\n",
        "    lambda point: ox.distance.nearest_nodes(H, point.x, point.y))\n",
        "\n",
        "source_node = hospital_points2['nearest_node'].iloc[0]\n",
        "lengths = nx.single_source_dijkstra_path_length(H, source_node, weight='length')\n",
        "\n",
        "pd.Series(lengths).plot(kind='hist', bins=30, title='Distribusi Jarak dari RS ke Semua Titik')"
      ],
      "metadata": {
        "id": "X6Od5m-l0q3g"
      },
      "id": "X6Od5m-l0q3g",
      "execution_count": null,
      "outputs": []
    },
    {
      "cell_type": "code",
      "execution_count": null,
      "id": "--e6K_KqkuUs",
      "metadata": {
        "id": "--e6K_KqkuUs"
      },
      "outputs": [],
      "source": [
        "# 🗺️ Peta interaktif jaringan dan rumah sakit (Kota Tangerang)\n",
        "m = folium.Map(location=[-6.1783, 106.6319], zoom_start=12)\n",
        "for idx, row in hospital_points1.iterrows():\n",
        "    folium.Marker(location=[row.geometry.y, row.geometry.x], popup=\"Rumah Sakit\").add_to(m)\n",
        "folium.GeoJson(edges).add_to(m)\n",
        "m"
      ]
    },
    {
      "cell_type": "code",
      "source": [
        "# 🗺️ Peta interaktif jaringan dan rumah sakit (Kota Medan)\n",
        "m = folium.Map(location=[3.5952, 98.6722], zoom_start=12)\n",
        "for idx, row in hospital_points2.iterrows():\n",
        "    folium.Marker(location=[row.geometry.y, row.geometry.x], popup=\"Rumah Sakit\").add_to(m)\n",
        "folium.GeoJson(edges).add_to(m)\n",
        "m"
      ],
      "metadata": {
        "id": "nBI3ElAM1Doq"
      },
      "id": "nBI3ElAM1Doq",
      "execution_count": null,
      "outputs": []
    },
    {
      "cell_type": "markdown",
      "source": [
        "**(Ditambahkan) - Akes ke Point of Interest**\n",
        "\n",
        "Akan dilakukan analisis pada rumah sakit pada entri ke - [0]\n",
        "\n",
        "Ditampilkan visualisasi heatmap dan buffer + colormap"
      ],
      "metadata": {
        "id": "SftCXxHguNIx"
      },
      "id": "SftCXxHguNIx"
    },
    {
      "cell_type": "code",
      "source": [
        "## KOTA TANGERANG ##\n",
        "\n",
        "# Ambil node rumah sakit sumber dari baris pertama\n",
        "source_node = hospital_points1['nearest_node'].iloc[0]\n",
        "\n",
        "# Hitung jarak dijkstra dari node rumah sakit ke semua node lain\n",
        "lengths = nx.single_source_dijkstra_path_length(G, source_node, weight='length')\n",
        "\n",
        "# Konversi ke DataFrame\n",
        "distance_df = pd.DataFrame.from_dict(lengths, orient='index', columns=['distance_to_hospital'])\n",
        "\n",
        "###\n",
        "\n",
        "from folium.plugins import HeatMap\n",
        "\n",
        "# Ambil koordinat node\n",
        "node_xy = {node: (data['y'], data['x']) for node, data in G.nodes(data=True)}\n",
        "\n",
        "# Buat data heatmap: latitude, longitude, \"intensitas\" aksesibilitas (semakin kecil jarak, semakin panas)\n",
        "heat_data = [\n",
        "    [node_xy[node][0], node_xy[node][1], 1 / (dist + 1)]  # tambah 1 agar tidak div 0\n",
        "    for node, dist in lengths.items()\n",
        "]\n",
        "\n",
        "# Peta interaktif\n",
        "m = folium.Map(location=[hospital_points1.geometry.y.iloc[0], hospital_points1.geometry.x.iloc[0]], zoom_start=13)\n",
        "HeatMap(heat_data, radius=10, blur=5, max_zoom=16).add_to(m)\n",
        "\n",
        "# Tambahkan marker rumah sakit\n",
        "folium.Marker(\n",
        "    location=[hospital_points1.geometry.y.iloc[0], hospital_points1.geometry.x.iloc[0]],\n",
        "    popup='Rumah Sakit',\n",
        "    icon=folium.Icon(color='red', icon='plus-sign')\n",
        ").add_to(m)\n",
        "\n",
        "m  # Menampilkan peta"
      ],
      "metadata": {
        "id": "orKWCs0trw1e"
      },
      "id": "orKWCs0trw1e",
      "execution_count": null,
      "outputs": []
    },
    {
      "cell_type": "code",
      "source": [
        "## KOTA MEDAN ##\n",
        "\n",
        "# Ambil node rumah sakit sumber dari baris pertama\n",
        "source_node = hospital_points2['nearest_node'].iloc[0]\n",
        "\n",
        "# Hitung jarak dijkstra dari node rumah sakit ke semua node lain\n",
        "lengths = nx.single_source_dijkstra_path_length(H, source_node, weight='length')\n",
        "\n",
        "# Konversi ke DataFrame\n",
        "distance_df = pd.DataFrame.from_dict(lengths, orient='index', columns=['distance_to_hospital'])\n",
        "\n",
        "###\n",
        "\n",
        "from folium.plugins import HeatMap\n",
        "\n",
        "# Ambil koordinat node\n",
        "node_xy = {node: (data['y'], data['x']) for node, data in H.nodes(data=True)}\n",
        "\n",
        "# Buat data heatmap: latitude, longitude, \"intensitas\" aksesibilitas (semakin kecil jarak, semakin panas)\n",
        "heat_data = [\n",
        "    [node_xy[node][0], node_xy[node][1], 1 / (dist + 1)]  # tambah 1 agar tidak div 0\n",
        "    for node, dist in lengths.items()\n",
        "]\n",
        "\n",
        "# Peta interaktif\n",
        "m = folium.Map(location=[hospital_points2.geometry.y.iloc[0], hospital_points2.geometry.x.iloc[0]], zoom_start=13)\n",
        "HeatMap(heat_data, radius=10, blur=5, max_zoom=16).add_to(m)\n",
        "\n",
        "# Tambahkan marker rumah sakit\n",
        "folium.Marker(\n",
        "    location=[hospital_points2.geometry.y.iloc[0], hospital_points2.geometry.x.iloc[0]],\n",
        "    popup='Rumah Sakit',\n",
        "    icon=folium.Icon(color='red', icon='plus-sign')\n",
        ").add_to(m)\n",
        "\n",
        "m  # Menampilkan peta"
      ],
      "metadata": {
        "id": "rgfjGuifrxR2"
      },
      "id": "rgfjGuifrxR2",
      "execution_count": null,
      "outputs": []
    },
    {
      "cell_type": "code",
      "source": [
        "## KOTA TANGERANG ##\n",
        "\n",
        "# Proyeksikan graph ke CRS metrik (contoh: EPSG:32648 untuk zona UTM Jakarta)\n",
        "G_proj = ox.project_graph(G, to_crs=\"EPSG:32648\")\n",
        "\n",
        "# Proyeksikan titik rumah sakit ke CRS metrik juga\n",
        "hospital_points_proj = hospital_points1.to_crs(\"EPSG:32648\")\n",
        "\n",
        "# Ambil node terdekat dari rumah sakit pertama\n",
        "source_node = ox.distance.nearest_nodes(\n",
        "    G_proj,\n",
        "    X=hospital_points_proj.geometry.iloc[0].x,\n",
        "    Y=hospital_points_proj.geometry.iloc[0].y\n",
        ")\n",
        "\n",
        "# Hitung jarak dari rumah sakit ke semua node di jaringan jalan\n",
        "lengths = nx.single_source_dijkstra_path_length(G_proj, source_node, weight='length')\n",
        "\n",
        "# Konversi graph ke GeoDataFrame dan tambahkan jarak sebagai atribut\n",
        "nodes = ox.graph_to_gdfs(G_proj, edges=False)\n",
        "nodes['distance_to_hospital'] = nodes.index.map(lengths)\n",
        "\n",
        "# Buat buffer 1 km di sekitar rumah sakit\n",
        "hospital_buffer = hospital_points_proj.iloc[[0]].copy()\n",
        "hospital_buffer['geometry'] = hospital_buffer.buffer(1000)\n",
        "\n",
        "# Plot hasil\n",
        "fig, ax = plt.subplots(figsize=(10, 10))\n",
        "nodes.plot(column='distance_to_hospital', cmap='viridis', markersize=5, legend=True, ax=ax)\n",
        "hospital_buffer.plot(ax=ax, color='red', alpha=0.2, label='Buffer 1km')\n",
        "hospital_points_proj.iloc[[0]].plot(ax=ax, color='black', markersize=50, label='Rumah Sakit')\n",
        "plt.title('Aksesibilitas ke Rumah Sakit [0] - Jarak ke Node Jalan')\n",
        "plt.legend()\n",
        "plt.show()"
      ],
      "metadata": {
        "id": "NOIq7pvYtsk7"
      },
      "id": "NOIq7pvYtsk7",
      "execution_count": null,
      "outputs": []
    },
    {
      "cell_type": "code",
      "source": [
        "## KOTA MEDAN ##\n",
        "\n",
        "# GeoDataFrame node jalan\n",
        "nodes = ox.graph_to_gdfs(H, edges=False)\n",
        "nodes['distance_to_hospital'] = nodes.index.map(lengths)\n",
        "\n",
        "# Buffer 1km di sekitar rumah sakit\n",
        "hospital_buffer = hospital_points2.iloc[[0]].copy()\n",
        "hospital_buffer = hospital_buffer.to_crs(epsg=32648)  # CRS metrik, contoh: UTM zona Jakarta\n",
        "hospital_buffer['geometry'] = hospital_buffer.buffer(1000)\n",
        "\n",
        "# Ubah nodes ke CRS yang sama agar bisa diplot\n",
        "nodes_proj = nodes.to_crs(hospital_buffer.crs)\n",
        "\n",
        "# Plot\n",
        "fig, ax = plt.subplots(figsize=(10, 10))\n",
        "nodes_proj.plot(column='distance_to_hospital', cmap='viridis', markersize=5, legend=True, ax=ax)\n",
        "hospital_buffer.plot(ax=ax, color='red', alpha=0.2, label='Buffer 1km')\n",
        "hospital_points2.iloc[[0]].to_crs(hospital_buffer.crs).plot(ax=ax, color='black', markersize=50, label='Rumah Sakit')\n",
        "plt.title('Aksesibilitas ke Rumah Sakit [0] - Jarak ke Node Jalan')\n",
        "plt.legend()\n",
        "plt.show()"
      ],
      "metadata": {
        "id": "tPSBfL4plP2O"
      },
      "id": "tPSBfL4plP2O",
      "execution_count": null,
      "outputs": []
    },
    {
      "cell_type": "markdown",
      "source": [
        "**Visualisasi jaringan dengan node berwarna menurut degree centrality**"
      ],
      "metadata": {
        "id": "iktVW7ztvZdr"
      },
      "id": "iktVW7ztvZdr"
    },
    {
      "cell_type": "code",
      "source": [
        "## KOTA TANGERANG ##\n",
        "\n",
        "# Ekstrak nilai degree centrality sesuai urutan node\n",
        "node_color = [degree1[node] for node in G.nodes()]\n",
        "\n",
        "# 3. Visualisasi dengan warna berdasarkan centrality\n",
        "fig, ax = ox.plot_graph(\n",
        "    G,\n",
        "    node_color=node_color,\n",
        "    node_size=20,\n",
        "    edge_color='#999999',\n",
        "    edge_linewidth=0.5,\n",
        "    bgcolor='white',\n",
        "    node_zorder=2,\n",
        "    show=False,\n",
        "    close=False\n",
        ")\n",
        "\n",
        "# 4. Tambahkan colorbar\n",
        "sm = plt.cm.ScalarMappable(cmap='plasma', norm=plt.Normalize(vmin=min(node_color), vmax=max(node_color)))\n",
        "sm.set_array([])\n",
        "cbar = plt.colorbar(sm, ax=ax, shrink=0.6)\n",
        "cbar.set_label('Degree Centrality')\n",
        "\n",
        "plt.title(\"Jaringan Jalan - Warna Node Berdasarkan Degree Centrality\", fontsize=12)\n",
        "plt.show()"
      ],
      "metadata": {
        "id": "WNGzvUGNvKXe"
      },
      "id": "WNGzvUGNvKXe",
      "execution_count": null,
      "outputs": []
    },
    {
      "cell_type": "code",
      "source": [
        "## KOTA MEDAN ##\n",
        "\n",
        "# Ekstrak nilai degree centrality sesuai urutan node\n",
        "node_color = [degree2[node] for node in H.nodes()]\n",
        "\n",
        "# 3. Visualisasi dengan warna berdasarkan centrality\n",
        "fig, ax = ox.plot_graph(\n",
        "    H,\n",
        "    node_color=node_color,\n",
        "    node_size=20,\n",
        "    edge_color='#999999',\n",
        "    edge_linewidth=0.5,\n",
        "    bgcolor='white',\n",
        "    node_zorder=2,\n",
        "    show=False,\n",
        "    close=False\n",
        ")\n",
        "\n",
        "# 4. Tambahkan colorbar\n",
        "sm = plt.cm.ScalarMappable(cmap='plasma', norm=plt.Normalize(vmin=min(node_color), vmax=max(node_color)))\n",
        "sm.set_array([])\n",
        "cbar = plt.colorbar(sm, ax=ax, shrink=0.6)\n",
        "cbar.set_label('Degree Centrality')\n",
        "\n",
        "plt.title(\"Jaringan Jalan - Warna Node Berdasarkan Degree Centrality\", fontsize=12)\n",
        "plt.show()"
      ],
      "metadata": {
        "id": "tQ1VdJkEvKuT"
      },
      "id": "tQ1VdJkEvKuT",
      "execution_count": null,
      "outputs": []
    }
  ],
  "metadata": {
    "colab": {
      "provenance": [],
      "gpuType": "T4"
    },
    "kernelspec": {
      "display_name": "Python 3",
      "name": "python3"
    },
    "language_info": {
      "name": "python",
      "version": ""
    },
    "accelerator": "GPU"
  },
  "nbformat": 4,
  "nbformat_minor": 5
}
